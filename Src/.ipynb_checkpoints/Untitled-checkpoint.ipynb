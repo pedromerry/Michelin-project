{
 "cells": [
  {
   "cell_type": "code",
   "execution_count": 17,
   "metadata": {},
   "outputs": [
    {
     "name": "stdout",
     "output_type": "stream",
     "text": [
      "['1,480', 'N/A', 'N/A']\n"
     ]
    }
   ],
   "source": [
    "url=\"https://guide.michelin.com/hk/en/hong-kong-region/hong-kong/restaurant/vea\"\n",
    "    #url=\"https://guide.michelin.com/at/en/vorarlberg/kleinwalsertal/restaurant/kilian-stuba\"\n",
    "def scrapePrice(url):\n",
    "    import requests\n",
    "    from bs4 import BeautifulSoup\n",
    "    response = requests.get(url)\n",
    "    soup = BeautifulSoup(response.text.encode('utf-8'))\n",
    "    table=soup.select('div[class=\"jumbotron__card-detail d-flex align-items-center\"]')[0].select('li')[1]\n",
    "    extractedText=table.text.replace(\" \",\"\").replace(\"\\n\",\"\")\n",
    "    if extractedText[-3:].isdigit()==False and \"-\" in extractedText:\n",
    "        minPrice,maxPrice=extractedText[:-3].split(\"-\")\n",
    "        currency=extractedText[-3:]\n",
    "    elif extractedText[-3:].isdigit()==False and \"-\" not in extractedText:\n",
    "        minPrice=extractedText[:-3]\n",
    "        maxPrice=\"N/A\"\n",
    "        currency=extractedText[-3:]\n",
    "    elif extractedText[-3:].isdigit()==True and \"-\" in extractedText:\n",
    "        minPrice,maxPrice=extractedText.split(\"-\")\n",
    "        currency=\"N/A\"\n",
    "    else:\n",
    "        minPrice=extractedText\n",
    "        maxPrice=\"N/A\"\n",
    "        currency=\"N/A\"\n",
    "    return ([minPrice, maxPrice, currency])\n",
    "\n",
    "print(scrapePrice(url))"
   ]
  },
  {
   "cell_type": "code",
   "execution_count": null,
   "metadata": {},
   "outputs": [],
   "source": []
  }
 ],
 "metadata": {
  "kernelspec": {
   "display_name": "Python 3",
   "language": "python",
   "name": "python3"
  },
  "language_info": {
   "codemirror_mode": {
    "name": "ipython",
    "version": 3
   },
   "file_extension": ".py",
   "mimetype": "text/x-python",
   "name": "python",
   "nbconvert_exporter": "python",
   "pygments_lexer": "ipython3",
   "version": "3.7.0"
  }
 },
 "nbformat": 4,
 "nbformat_minor": 2
}
